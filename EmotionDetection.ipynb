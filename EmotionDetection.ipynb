{
 "cells": [
  {
   "cell_type": "markdown",
   "metadata": {},
   "source": [
    "## Facial Emotion Detection"
   ]
  },
  {
   "cell_type": "code",
   "execution_count": 6,
   "metadata": {
    "ExecuteTime": {
     "end_time": "2019-03-18T23:57:12.941748Z",
     "start_time": "2019-03-18T23:57:09.234396Z"
    }
   },
   "outputs": [
    {
     "name": "stderr",
     "output_type": "stream",
     "text": [
      "Using TensorFlow backend.\n"
     ]
    }
   ],
   "source": [
    "import os\n",
    "os.environ['TF_CPP_MIN_LOG_LEVEL'] = '2'\n",
    "os.environ['KMP_DUPLICATE_LIB_OK']='True'\n",
    "\n",
    "import keras\n",
    "from keras.preprocessing.image import ImageDataGenerator\n",
    "from keras.models import Sequential\n",
    "from keras.layers import Conv2D, MaxPooling2D\n",
    "from keras.layers import Activation, Dropout, Flatten, Dense\n",
    "from keras.applications.vgg16 import VGG16\n",
    "from keras import backend as K\n",
    "\n",
    "from sklearn.metrics import classification_report\n",
    "from sklearn.preprocessing import LabelBinarizer\n",
    "\n",
    "import matplotlib.pyplot as plt\n",
    "\n",
    "import numpy as np"
   ]
  },
  {
   "cell_type": "code",
   "execution_count": 7,
   "metadata": {
    "ExecuteTime": {
     "end_time": "2019-03-18T23:57:17.613073Z",
     "start_time": "2019-03-18T23:57:16.672025Z"
    }
   },
   "outputs": [
    {
     "name": "stdout",
     "output_type": "stream",
     "text": [
      "Found 8218 images belonging to 8 classes.\n"
     ]
    }
   ],
   "source": [
    "train_datagen = ImageDataGenerator(\n",
    "        rescale=1./255)\n",
    "train_generator = train_datagen.flow_from_directory(\n",
    "        directory = r'../classifiedData/training',\n",
    "        color_mode=\"rgb\",\n",
    "        target_size=(224, 224),\n",
    "        batch_size=32,\n",
    "        class_mode='categorical')\n",
    "\n",
    "train_labels = []\n",
    "\n",
    "for i in range(0,8218//32+1):\n",
    "    train_labels.extend(np.array(train_generator[i][1]))"
   ]
  },
  {
   "cell_type": "code",
   "execution_count": 8,
   "metadata": {
    "ExecuteTime": {
     "end_time": "2019-03-18T23:57:17.775354Z",
     "start_time": "2019-03-18T23:57:17.661838Z"
    }
   },
   "outputs": [
    {
     "name": "stdout",
     "output_type": "stream",
     "text": [
      "Found 2737 images belonging to 8 classes.\n"
     ]
    }
   ],
   "source": [
    "val_datagen = ImageDataGenerator(\n",
    "        rescale=1./255)\n",
    "val_generator = val_datagen.flow_from_directory(\n",
    "        directory = r'../classifiedData/validation',\n",
    "        color_mode=\"rgb\",\n",
    "        target_size=(224, 224),\n",
    "        batch_size=32,\n",
    "        class_mode='categorical')\n",
    "\n",
    "val_labels = []\n",
    "\n",
    "for i in range(0,2737//32+1):\n",
    "    val_labels.extend(np.array(val_generator[i][1]))"
   ]
  },
  {
   "cell_type": "code",
   "execution_count": 9,
   "metadata": {},
   "outputs": [
    {
     "name": "stdout",
     "output_type": "stream",
     "text": [
      "Found 2736 images belonging to 8 classes.\n"
     ]
    }
   ],
   "source": [
    "test_datagen = ImageDataGenerator(\n",
    "        rescale=1./255)\n",
    "test_generator = test_datagen.flow_from_directory(\n",
    "        directory = r'../classifiedData/testing',\n",
    "        color_mode=\"rgb\",\n",
    "        target_size=(224, 224),\n",
    "        batch_size=32,\n",
    "        class_mode='categorical')\n",
    "\n",
    "test_labels = []\n",
    "\n",
    "for i in range(0,2736//32+1):\n",
    "    test_labels.extend(np.array(test_generator[i][1]))"
   ]
  },
  {
   "cell_type": "code",
   "execution_count": 10,
   "metadata": {},
   "outputs": [
    {
     "name": "stdout",
     "output_type": "stream",
     "text": [
      "{'anger': 0, 'contempt': 1, 'disgust': 2, 'fear': 3, 'happiness': 4, 'neutral': 5, 'sadness': 6, 'surprise': 7}\n",
      "{'anger': 0, 'contempt': 1, 'disgust': 2, 'fear': 3, 'happiness': 4, 'neutral': 5, 'sadness': 6, 'surprise': 7}\n",
      "{'anger': 0, 'contempt': 1, 'disgust': 2, 'fear': 3, 'happiness': 4, 'neutral': 5, 'sadness': 6, 'surprise': 7}\n"
     ]
    }
   ],
   "source": [
    "print(train_generator.class_indices)\n",
    "print(val_generator.class_indices)\n",
    "print(test_generator.class_indices)"
   ]
  },
  {
   "cell_type": "code",
   "execution_count": 11,
   "metadata": {
    "ExecuteTime": {
     "end_time": "2019-03-18T23:57:18.889111Z",
     "start_time": "2019-03-18T23:57:18.884603Z"
    }
   },
   "outputs": [],
   "source": [
    "img_width = 224\n",
    "img_height = 224\n",
    "epochs = 2"
   ]
  },
  {
   "cell_type": "code",
   "execution_count": 12,
   "metadata": {
    "ExecuteTime": {
     "end_time": "2019-03-18T23:57:19.373601Z",
     "start_time": "2019-03-18T23:57:19.368828Z"
    }
   },
   "outputs": [
    {
     "name": "stdout",
     "output_type": "stream",
     "text": [
      "Epoch 1/2\n",
      "256/256 [==============================] - 185s 724ms/step - loss: 1.1232 - acc: 0.5264 - val_loss: 0.8805 - val_acc: 0.6452\n",
      "Epoch 2/2\n",
      "256/256 [==============================] - 181s 706ms/step - loss: 0.8555 - acc: 0.6988 - val_loss: 0.6963 - val_acc: 0.7752\n"
     ]
    }
   ],
   "source": [
    "if K.image_data_format() == 'channels_first':\n",
    "    input_shape = (3, img_width, img_height)\n",
    "else:\n",
    "    input_shape = (img_width, img_height, 3)\n",
    "\n",
    "model_t = Sequential()\n",
    "model_t.add(Conv2D(32, (3, 3), input_shape=input_shape))\n",
    "model_t.add(Activation('relu'))\n",
    "model_t.add(MaxPooling2D(pool_size=(2, 2)))\n",
    "\n",
    "model_t.add(Conv2D(32, (3, 3)))\n",
    "model_t.add(Activation('relu'))\n",
    "model_t.add(MaxPooling2D(pool_size=(2, 2)))\n",
    "\n",
    "model_t.add(Conv2D(64, (3, 3)))\n",
    "model_t.add(Activation('relu'))\n",
    "model_t.add(MaxPooling2D(pool_size=(2, 2)))\n",
    "\n",
    "model_t.add(Flatten())\n",
    "model_t.add(Dense(64))\n",
    "model_t.add(Activation('relu'))\n",
    "model_t.add(Dropout(0.5))\n",
    "model_t.add(Dense(8))\n",
    "model_t.add(Activation('softmax'))\n",
    "\n",
    "model_t.compile(loss='categorical_crossentropy',\n",
    "              optimizer='rmsprop',\n",
    "              metrics=['accuracy'])\n",
    "\n",
    "H_t = model_t.fit_generator(\n",
    "    train_generator,\n",
    "    epochs=epochs,\n",
    "    steps_per_epoch=8216//32,\n",
    "    validation_steps=2737//32,\n",
    "    validation_data=val_generator\n",
    "    )"
   ]
  },
  {
   "cell_type": "code",
   "execution_count": 13,
   "metadata": {},
   "outputs": [
    {
     "name": "stdout",
     "output_type": "stream",
     "text": [
      "              precision    recall  f1-score   support\n",
      "\n",
      "           0       0.00      0.00      0.00       151\n",
      "           1       0.00      0.00      0.00         6\n",
      "           2       0.00      0.00      0.00       131\n",
      "           3       0.00      0.00      0.00        12\n",
      "           4       0.41      0.45      0.43      3416\n",
      "           5       0.50      0.55      0.52      4119\n",
      "           6       0.00      0.00      0.00       162\n",
      "           7       0.00      0.00      0.00       221\n",
      "\n",
      "   micro avg       0.46      0.46      0.46      8218\n",
      "   macro avg       0.11      0.12      0.12      8218\n",
      "weighted avg       0.42      0.46      0.44      8218\n",
      "\n"
     ]
    },
    {
     "name": "stderr",
     "output_type": "stream",
     "text": [
      "/Users/shijizhao/anaconda3/lib/python3.6/site-packages/sklearn/metrics/classification.py:1143: UndefinedMetricWarning: Precision and F-score are ill-defined and being set to 0.0 in labels with no predicted samples.\n",
      "  'precision', 'predicted', average, warn_for)\n"
     ]
    }
   ],
   "source": [
    "# make predictions on the training images, finding the index of the\n",
    "# label with the corresponding largest predicted probability\n",
    "predIdxs_train = model_t.predict_generator(train_generator,\n",
    "                                   steps=8218//32 + 1)\n",
    "predIdxs_train = np.argmax(predIdxs_train, axis=1)\n",
    "\n",
    "# show a nicely formatted classification report\n",
    "print(classification_report(np.argmax(train_labels,axis=1), predIdxs_train))"
   ]
  },
  {
   "cell_type": "code",
   "execution_count": 14,
   "metadata": {
    "ExecuteTime": {
     "end_time": "2019-03-18T23:40:59.718420Z",
     "start_time": "2019-03-18T23:40:57.974367Z"
    }
   },
   "outputs": [
    {
     "name": "stdout",
     "output_type": "stream",
     "text": [
      "              precision    recall  f1-score   support\n",
      "\n",
      "           0       0.00      0.00      0.00        50\n",
      "           1       0.00      0.00      0.00         2\n",
      "           2       0.00      0.00      0.00        43\n",
      "           3       0.00      0.00      0.00         4\n",
      "           4       0.42      0.45      0.43      1138\n",
      "           5       0.51      0.55      0.53      1373\n",
      "           6       0.00      0.00      0.00        54\n",
      "           7       0.00      0.00      0.00        73\n",
      "\n",
      "   micro avg       0.47      0.47      0.47      2737\n",
      "   macro avg       0.12      0.13      0.12      2737\n",
      "weighted avg       0.43      0.47      0.45      2737\n",
      "\n"
     ]
    }
   ],
   "source": [
    "# make predictions on the validation images, finding the index of the\n",
    "# label with the corresponding largest predicted probability\n",
    "predIdxs_val = model_t.predict_generator(val_generator,\n",
    "                                   steps=2737//32 + 1)\n",
    "predIdxs_val = np.argmax(predIdxs_val, axis=1)\n",
    "\n",
    "# show a nicely formatted classification report\n",
    "print(classification_report(np.argmax(val_labels,axis=1), predIdxs_val))"
   ]
  },
  {
   "cell_type": "code",
   "execution_count": 15,
   "metadata": {
    "ExecuteTime": {
     "end_time": "2019-03-18T23:41:01.341879Z",
     "start_time": "2019-03-18T23:41:01.337200Z"
    }
   },
   "outputs": [
    {
     "name": "stdout",
     "output_type": "stream",
     "text": [
      "              precision    recall  f1-score   support\n",
      "\n",
      "           0       0.00      0.00      0.00        50\n",
      "           1       0.00      0.00      0.00         1\n",
      "           2       0.00      0.00      0.00        43\n",
      "           3       0.00      0.00      0.00         4\n",
      "           4       0.41      0.46      0.43      1138\n",
      "           5       0.50      0.53      0.52      1373\n",
      "           6       0.00      0.00      0.00        54\n",
      "           7       0.00      0.00      0.00        73\n",
      "\n",
      "   micro avg       0.46      0.46      0.46      2736\n",
      "   macro avg       0.11      0.12      0.12      2736\n",
      "weighted avg       0.42      0.46      0.44      2736\n",
      "\n"
     ]
    }
   ],
   "source": [
    "# make predictions on the testing images, finding the index of the\n",
    "# label with the corresponding largest predicted probability\n",
    "predIdxs_test = model_t.predict_generator(test_generator,\n",
    "                                   steps=2736//32 + 1)\n",
    "predIdxs_test = np.argmax(predIdxs_test, axis=1)\n",
    "\n",
    "# show a nicely formatted classification report\n",
    "print(classification_report(np.argmax(test_labels,axis=1), predIdxs_test))"
   ]
  },
  {
   "cell_type": "code",
   "execution_count": 16,
   "metadata": {
    "ExecuteTime": {
     "end_time": "2019-03-18T23:27:24.956309Z",
     "start_time": "2019-03-18T23:27:24.723812Z"
    }
   },
   "outputs": [
    {
     "data": {
      "image/png": "[encoded data removed]",
      "text/plain": [
       "<Figure size 1008x360 with 2 Axes>"
      ]
     },
     "metadata": {},
     "output_type": "display_data"
    }
   ],
   "source": [
    "# plot the training loss and accuracy\n",
    "N = epochs\n",
    "plt.style.use(\"ggplot\")\n",
    "plt.figure(figsize=[14,5])\n",
    "plt.subplot(1,2,1)\n",
    "plt.plot(np.arange(0, N), H_t.history[\"loss\"], label=\"train_loss\")\n",
    "plt.plot(np.arange(0, N), H_t.history[\"val_loss\"], label=\"val_loss\")\n",
    "plt.title(\"Training Loss on Dataset\")\n",
    "plt.xlabel(\"Epoch #\")\n",
    "plt.ylabel(\"Loss\")\n",
    "plt.legend()\n",
    "\n",
    "plt.subplot(1,2,2)\n",
    "plt.plot(np.arange(0, N), H_t.history[\"acc\"], label=\"train_acc\")\n",
    "plt.plot(np.arange(0, N), H_t.history[\"val_acc\"], label=\"val_acc\")\n",
    "plt.title(\"Training Accuracy on Dataset\")\n",
    "plt.xlabel(\"Epoch #\")\n",
    "plt.ylabel(\"Accuracy\")\n",
    "plt.legend()\n",
    "plt.show()"
   ]
  },
  {
   "cell_type": "code",
   "execution_count": 17,
   "metadata": {},
   "outputs": [],
   "source": [
    "#model_1 = VGG16(include_top=True, classes=8, weights = None)\n",
    "#\n",
    "#model_1.compile(loss='categorical_crossentropy',\n",
    "#              optimizer='rmsprop',\n",
    "#              metrics=['accuracy'])\n",
    "#\n",
    "#H_1 = model_1.fit_generator(\n",
    "#    train_generator,\n",
    "#    epochs=epochs,\n",
    "#    steps_per_epoch=8216//32,\n",
    "#    validation_steps=2737//32,\n",
    "#    validation_data=val_generator\n",
    "#    )"
   ]
  },
  {
   "cell_type": "code",
   "execution_count": 18,
   "metadata": {},
   "outputs": [
    {
     "data": {
      "image/png": "[encoded data removed]",
      "text/plain": [
       "<Figure size 432x288 with 1 Axes>"
      ]
     },
     "metadata": {},
     "output_type": "display_data"
    }
   ],
   "source": [
    "# Human Performance Test\n",
    "\n",
    "import matplotlib.pyplot as plt\n",
    "import numpy as np\n",
    "\n",
    "x = range(6)\n",
    "money = [0.8163, 0.8174, 0.5031, 0.68, 0.73, 0.66]\n",
    "\n",
    "plt.bar(x, money)\n",
    "plt.xticks(x, ('SelfDesign', 'Xception', 'VGG16', 'Shiji', 'Ziyuan', 'Xiangyu'))\n",
    "plt.title('The Accuracy of 3 Models and 3 Humans')\n",
    "plt.show()"
   ]
  },
  {
   "cell_type": "code",
   "execution_count": null,
   "metadata": {},
   "outputs": [],
   "source": []
  }
 ],
 "metadata": {
  "kernelspec": {
   "display_name": "Python 3",
   "language": "python",
   "name": "python3"
  },
  "language_info": {
   "codemirror_mode": {
    "name": "ipython",
    "version": 3
   },
   "file_extension": ".py",
   "mimetype": "text/x-python",
   "name": "python",
   "nbconvert_exporter": "python",
   "pygments_lexer": "ipython3",
   "version": "3.6.8"
  },
  "varInspector": {
   "cols": {
    "lenName": 16,
    "lenType": 16,
    "lenVar": 40
   },
   "kernels_config": {
    "python": {
     "delete_cmd_postfix": "",
     "delete_cmd_prefix": "del ",
     "library": "var_list.py",
     "varRefreshCmd": "print(var_dic_list())"
    },
    "r": {
     "delete_cmd_postfix": ") ",
     "delete_cmd_prefix": "rm(",
     "library": "var_list.r",
     "varRefreshCmd": "cat(var_dic_list()) "
    }
   },
   "types_to_exclude": [
    "module",
    "function",
    "builtin_function_or_method",
    "instance",
    "_Feature"
   ],
   "window_display": false
  }
 },
 "nbformat": 4,
 "nbformat_minor": 2
}
