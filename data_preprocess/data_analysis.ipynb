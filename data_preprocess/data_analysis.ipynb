{
 "cells": [
  {
   "cell_type": "code",
   "execution_count": 324,
   "metadata": {},
   "outputs": [],
   "source": [
    "import pandas as pd\n",
    "import os\n",
    "import numpy as np\n",
    "from PIL import Image"
   ]
  },
  {
   "cell_type": "code",
   "execution_count": 282,
   "metadata": {},
   "outputs": [
    {
     "name": "stdout",
     "output_type": "stream",
     "text": [
      "/Users/ziyuancui/Desktop/2019Winter/273/project/EmotionDetection/data_preprocess\r\n"
     ]
    }
   ],
   "source": [
    "!pwd"
   ]
  },
  {
   "cell_type": "code",
   "execution_count": 283,
   "metadata": {},
   "outputs": [],
   "source": [
    "base_path = '/Users/ziyuancui/Desktop/2019Winter/273/project/data/facial_expressions-master/'\n",
    "label_file = base_path + 'data/legend.csv'\n",
    "image_file = base_path + 'images'"
   ]
  },
  {
   "cell_type": "code",
   "execution_count": 284,
   "metadata": {},
   "outputs": [],
   "source": [
    "df = pd.read_csv(label_file)"
   ]
  },
  {
   "cell_type": "code",
   "execution_count": 285,
   "metadata": {},
   "outputs": [
    {
     "data": {
      "text/html": [
       "<div>\n",
       "<style scoped>\n",
       "    .dataframe tbody tr th:only-of-type {\n",
       "        vertical-align: middle;\n",
       "    }\n",
       "\n",
       "    .dataframe tbody tr th {\n",
       "        vertical-align: top;\n",
       "    }\n",
       "\n",
       "    .dataframe thead th {\n",
       "        text-align: right;\n",
       "    }\n",
       "</style>\n",
       "<table border=\"1\" class=\"dataframe\">\n",
       "  <thead>\n",
       "    <tr style=\"text-align: right;\">\n",
       "      <th></th>\n",
       "      <th>user.id</th>\n",
       "      <th>image</th>\n",
       "      <th>emotion</th>\n",
       "    </tr>\n",
       "  </thead>\n",
       "  <tbody>\n",
       "    <tr>\n",
       "      <th>count</th>\n",
       "      <td>13690</td>\n",
       "      <td>13690</td>\n",
       "      <td>13690</td>\n",
       "    </tr>\n",
       "    <tr>\n",
       "      <th>unique</th>\n",
       "      <td>5</td>\n",
       "      <td>13682</td>\n",
       "      <td>15</td>\n",
       "    </tr>\n",
       "    <tr>\n",
       "      <th>top</th>\n",
       "      <td>dwdii</td>\n",
       "      <td>Kimi_Raikkonen_0002.jpg</td>\n",
       "      <td>neutral</td>\n",
       "    </tr>\n",
       "    <tr>\n",
       "      <th>freq</th>\n",
       "      <td>6667</td>\n",
       "      <td>2</td>\n",
       "      <td>6717</td>\n",
       "    </tr>\n",
       "  </tbody>\n",
       "</table>\n",
       "</div>"
      ],
      "text/plain": [
       "       user.id                    image  emotion\n",
       "count    13690                    13690    13690\n",
       "unique       5                    13682       15\n",
       "top      dwdii  Kimi_Raikkonen_0002.jpg  neutral\n",
       "freq      6667                        2     6717"
      ]
     },
     "execution_count": 285,
     "metadata": {},
     "output_type": "execute_result"
    }
   ],
   "source": [
    "df.describe()"
   ]
  },
  {
   "cell_type": "code",
   "execution_count": 286,
   "metadata": {},
   "outputs": [
    {
     "data": {
      "text/html": [
       "<div>\n",
       "<style scoped>\n",
       "    .dataframe tbody tr th:only-of-type {\n",
       "        vertical-align: middle;\n",
       "    }\n",
       "\n",
       "    .dataframe tbody tr th {\n",
       "        vertical-align: top;\n",
       "    }\n",
       "\n",
       "    .dataframe thead th {\n",
       "        text-align: right;\n",
       "    }\n",
       "</style>\n",
       "<table border=\"1\" class=\"dataframe\">\n",
       "  <thead>\n",
       "    <tr style=\"text-align: right;\">\n",
       "      <th></th>\n",
       "      <th>user.id</th>\n",
       "      <th>image</th>\n",
       "      <th>emotion</th>\n",
       "    </tr>\n",
       "  </thead>\n",
       "  <tbody>\n",
       "    <tr>\n",
       "      <th>0</th>\n",
       "      <td>628</td>\n",
       "      <td>facial-expressions_2868588k.jpg</td>\n",
       "      <td>anger</td>\n",
       "    </tr>\n",
       "    <tr>\n",
       "      <th>1</th>\n",
       "      <td>628</td>\n",
       "      <td>facial-expressions_2868585k.jpg</td>\n",
       "      <td>surprise</td>\n",
       "    </tr>\n",
       "    <tr>\n",
       "      <th>2</th>\n",
       "      <td>628</td>\n",
       "      <td>facial-expressions_2868584k.jpg</td>\n",
       "      <td>disgust</td>\n",
       "    </tr>\n",
       "    <tr>\n",
       "      <th>3</th>\n",
       "      <td>628</td>\n",
       "      <td>facial-expressions_2868582k.jpg</td>\n",
       "      <td>fear</td>\n",
       "    </tr>\n",
       "    <tr>\n",
       "      <th>4</th>\n",
       "      <td>dwdii</td>\n",
       "      <td>Aaron_Eckhart_0001.jpg</td>\n",
       "      <td>neutral</td>\n",
       "    </tr>\n",
       "  </tbody>\n",
       "</table>\n",
       "</div>"
      ],
      "text/plain": [
       "  user.id                            image   emotion\n",
       "0     628  facial-expressions_2868588k.jpg     anger\n",
       "1     628  facial-expressions_2868585k.jpg  surprise\n",
       "2     628  facial-expressions_2868584k.jpg   disgust\n",
       "3     628  facial-expressions_2868582k.jpg      fear\n",
       "4   dwdii           Aaron_Eckhart_0001.jpg   neutral"
      ]
     },
     "execution_count": 286,
     "metadata": {},
     "output_type": "execute_result"
    }
   ],
   "source": [
    "df.head()"
   ]
  },
  {
   "cell_type": "markdown",
   "metadata": {},
   "source": [
    "### Number of Classes"
   ]
  },
  {
   "cell_type": "code",
   "execution_count": 287,
   "metadata": {},
   "outputs": [
    {
     "data": {
      "text/plain": [
       "array(['anger', 'surprise', 'disgust', 'fear', 'neutral', 'happiness',\n",
       "       'sadness', 'contempt', 'NEUTRAL', 'SADNESS', 'DISGUST', 'FEAR',\n",
       "       'SURPRISE', 'ANGER', 'HAPPINESS'], dtype=object)"
      ]
     },
     "execution_count": 287,
     "metadata": {},
     "output_type": "execute_result"
    }
   ],
   "source": [
    "df['emotion'].unique()"
   ]
  },
  {
   "cell_type": "markdown",
   "metadata": {},
   "source": [
    "The total number of classes is 8."
   ]
  },
  {
   "cell_type": "markdown",
   "metadata": {},
   "source": [
    "### Number of Labels"
   ]
  },
  {
   "cell_type": "code",
   "execution_count": 288,
   "metadata": {},
   "outputs": [
    {
     "data": {
      "text/html": [
       "<div>\n",
       "<style scoped>\n",
       "    .dataframe tbody tr th:only-of-type {\n",
       "        vertical-align: middle;\n",
       "    }\n",
       "\n",
       "    .dataframe tbody tr th {\n",
       "        vertical-align: top;\n",
       "    }\n",
       "\n",
       "    .dataframe thead th {\n",
       "        text-align: right;\n",
       "    }\n",
       "</style>\n",
       "<table border=\"1\" class=\"dataframe\">\n",
       "  <thead>\n",
       "    <tr style=\"text-align: right;\">\n",
       "      <th></th>\n",
       "      <th>user.id</th>\n",
       "      <th>image</th>\n",
       "      <th>emotion</th>\n",
       "    </tr>\n",
       "  </thead>\n",
       "  <tbody>\n",
       "    <tr>\n",
       "      <th>count</th>\n",
       "      <td>13690</td>\n",
       "      <td>13690</td>\n",
       "      <td>13690</td>\n",
       "    </tr>\n",
       "    <tr>\n",
       "      <th>unique</th>\n",
       "      <td>5</td>\n",
       "      <td>13682</td>\n",
       "      <td>15</td>\n",
       "    </tr>\n",
       "    <tr>\n",
       "      <th>top</th>\n",
       "      <td>dwdii</td>\n",
       "      <td>Kimi_Raikkonen_0002.jpg</td>\n",
       "      <td>neutral</td>\n",
       "    </tr>\n",
       "    <tr>\n",
       "      <th>freq</th>\n",
       "      <td>6667</td>\n",
       "      <td>2</td>\n",
       "      <td>6717</td>\n",
       "    </tr>\n",
       "  </tbody>\n",
       "</table>\n",
       "</div>"
      ],
      "text/plain": [
       "       user.id                    image  emotion\n",
       "count    13690                    13690    13690\n",
       "unique       5                    13682       15\n",
       "top      dwdii  Kimi_Raikkonen_0002.jpg  neutral\n",
       "freq      6667                        2     6717"
      ]
     },
     "execution_count": 288,
     "metadata": {},
     "output_type": "execute_result"
    }
   ],
   "source": [
    "df.describe()"
   ]
  },
  {
   "cell_type": "markdown",
   "metadata": {},
   "source": [
    "### Number of Images"
   ]
  },
  {
   "cell_type": "code",
   "execution_count": 289,
   "metadata": {},
   "outputs": [
    {
     "name": "stdout",
     "output_type": "stream",
     "text": [
      "13718\n"
     ]
    }
   ],
   "source": [
    "images_dir = os.listdir(image_file)   \n",
    "\n",
    "print(len(images_dir))"
   ]
  },
  {
   "cell_type": "markdown",
   "metadata": {},
   "source": [
    "### Reformat the dataframe"
   ]
  },
  {
   "cell_type": "code",
   "execution_count": 290,
   "metadata": {},
   "outputs": [],
   "source": [
    "del df['user.id']"
   ]
  },
  {
   "cell_type": "code",
   "execution_count": 291,
   "metadata": {},
   "outputs": [],
   "source": [
    "# df = df.set_index('image')\n",
    "df = df.drop([0,1,2,3])"
   ]
  },
  {
   "cell_type": "code",
   "execution_count": 292,
   "metadata": {},
   "outputs": [
    {
     "name": "stdout",
     "output_type": "stream",
     "text": [
      "image      object\n",
      "emotion    object\n",
      "dtype: object\n"
     ]
    }
   ],
   "source": [
    "df['emotion'] = df['emotion'].str.lower()\n",
    "print(df.dtypes)"
   ]
  },
  {
   "cell_type": "code",
   "execution_count": 293,
   "metadata": {
    "scrolled": true
   },
   "outputs": [
    {
     "data": {
      "text/html": [
       "<div>\n",
       "<style scoped>\n",
       "    .dataframe tbody tr th:only-of-type {\n",
       "        vertical-align: middle;\n",
       "    }\n",
       "\n",
       "    .dataframe tbody tr th {\n",
       "        vertical-align: top;\n",
       "    }\n",
       "\n",
       "    .dataframe thead th {\n",
       "        text-align: right;\n",
       "    }\n",
       "</style>\n",
       "<table border=\"1\" class=\"dataframe\">\n",
       "  <thead>\n",
       "    <tr style=\"text-align: right;\">\n",
       "      <th></th>\n",
       "      <th>image</th>\n",
       "      <th>emotion</th>\n",
       "    </tr>\n",
       "  </thead>\n",
       "  <tbody>\n",
       "    <tr>\n",
       "      <th>0</th>\n",
       "      <td></td>\n",
       "      <td></td>\n",
       "    </tr>\n",
       "  </tbody>\n",
       "</table>\n",
       "</div>"
      ],
      "text/plain": [
       "  image emotion\n",
       "0              "
      ]
     },
     "execution_count": 293,
     "metadata": {},
     "output_type": "execute_result"
    }
   ],
   "source": [
    "# Create a new dataframe with correct order\n",
    "example = {'image':[''],\n",
    "             'emotion':['']}\n",
    "new_df = pd.DataFrame(example)\n",
    "# new_df = new_df.set_index('image')\n",
    "new_df"
   ]
  },
  {
   "cell_type": "code",
   "execution_count": 294,
   "metadata": {
    "scrolled": true
   },
   "outputs": [
    {
     "name": "stdout",
     "output_type": "stream",
     "text": [
      "0\n",
      "1000\n",
      "2000\n",
      "3000\n",
      "4000\n",
      "5000\n",
      "6000\n",
      "7000\n",
      "8000\n",
      "9000\n",
      "10000\n",
      "11000\n",
      "12000\n",
      "13000\n"
     ]
    }
   ],
   "source": [
    "images_dir.sort()\n",
    "\n",
    "index = 0\n",
    "for name in images_dir:\n",
    "    if df['image'].str.contains(name).any():\n",
    "        target = df[df['image'].str.contains(name)]\n",
    "        target = target.reset_index(drop=True)\n",
    "        image = target.loc[[0], 'image'].to_string().split()[1]\n",
    "        emotion = target.loc[[0], 'emotion'].to_string().split()[1]\n",
    "        new_df.loc[index] = [image, emotion]\n",
    "        if index%1000 == 0:\n",
    "            print(index)\n",
    "        index += 1\n",
    "        "
   ]
  },
  {
   "cell_type": "code",
   "execution_count": 295,
   "metadata": {},
   "outputs": [
    {
     "data": {
      "text/html": [
       "<div>\n",
       "<style scoped>\n",
       "    .dataframe tbody tr th:only-of-type {\n",
       "        vertical-align: middle;\n",
       "    }\n",
       "\n",
       "    .dataframe tbody tr th {\n",
       "        vertical-align: top;\n",
       "    }\n",
       "\n",
       "    .dataframe thead th {\n",
       "        text-align: right;\n",
       "    }\n",
       "</style>\n",
       "<table border=\"1\" class=\"dataframe\">\n",
       "  <thead>\n",
       "    <tr style=\"text-align: right;\">\n",
       "      <th></th>\n",
       "      <th>image</th>\n",
       "      <th>emotion</th>\n",
       "    </tr>\n",
       "  </thead>\n",
       "  <tbody>\n",
       "    <tr>\n",
       "      <th>0</th>\n",
       "      <td>AJ_Cook_0001.jpg</td>\n",
       "      <td>happiness</td>\n",
       "    </tr>\n",
       "    <tr>\n",
       "      <th>1</th>\n",
       "      <td>AJ_Lamas_0001.jpg</td>\n",
       "      <td>happiness</td>\n",
       "    </tr>\n",
       "    <tr>\n",
       "      <th>2</th>\n",
       "      <td>Aaron_Eckhart_0001.jpg</td>\n",
       "      <td>neutral</td>\n",
       "    </tr>\n",
       "    <tr>\n",
       "      <th>3</th>\n",
       "      <td>Aaron_Guiel_0001.jpg</td>\n",
       "      <td>happiness</td>\n",
       "    </tr>\n",
       "    <tr>\n",
       "      <th>4</th>\n",
       "      <td>Aaron_Patterson_0001.jpg</td>\n",
       "      <td>neutral</td>\n",
       "    </tr>\n",
       "    <tr>\n",
       "      <th>5</th>\n",
       "      <td>Aaron_Peirsol_0001.jpg</td>\n",
       "      <td>happiness</td>\n",
       "    </tr>\n",
       "    <tr>\n",
       "      <th>6</th>\n",
       "      <td>Aaron_Peirsol_0002.jpg</td>\n",
       "      <td>happiness</td>\n",
       "    </tr>\n",
       "    <tr>\n",
       "      <th>7</th>\n",
       "      <td>Aaron_Peirsol_0003.jpg</td>\n",
       "      <td>happiness</td>\n",
       "    </tr>\n",
       "    <tr>\n",
       "      <th>8</th>\n",
       "      <td>Aaron_Peirsol_0004.jpg</td>\n",
       "      <td>neutral</td>\n",
       "    </tr>\n",
       "    <tr>\n",
       "      <th>9</th>\n",
       "      <td>Aaron_Pena_0001.jpg</td>\n",
       "      <td>neutral</td>\n",
       "    </tr>\n",
       "    <tr>\n",
       "      <th>10</th>\n",
       "      <td>Aaron_Sorkin_0001.jpg</td>\n",
       "      <td>happiness</td>\n",
       "    </tr>\n",
       "    <tr>\n",
       "      <th>11</th>\n",
       "      <td>Aaron_Sorkin_0002.jpg</td>\n",
       "      <td>happiness</td>\n",
       "    </tr>\n",
       "    <tr>\n",
       "      <th>12</th>\n",
       "      <td>Aaron_Tippin_0001.jpg</td>\n",
       "      <td>neutral</td>\n",
       "    </tr>\n",
       "    <tr>\n",
       "      <th>13</th>\n",
       "      <td>Abba_Eban_0001.jpg</td>\n",
       "      <td>happiness</td>\n",
       "    </tr>\n",
       "    <tr>\n",
       "      <th>14</th>\n",
       "      <td>Abbas_Kiarostami_0001.jpg</td>\n",
       "      <td>neutral</td>\n",
       "    </tr>\n",
       "    <tr>\n",
       "      <th>15</th>\n",
       "      <td>Abdel_Aziz_Al-Hakim_0001.jpg</td>\n",
       "      <td>neutral</td>\n",
       "    </tr>\n",
       "    <tr>\n",
       "      <th>16</th>\n",
       "      <td>Abdel_Madi_Shabneh_0001.jpg</td>\n",
       "      <td>neutral</td>\n",
       "    </tr>\n",
       "    <tr>\n",
       "      <th>17</th>\n",
       "      <td>Abdel_Nasser_Assidi_0001.jpg</td>\n",
       "      <td>neutral</td>\n",
       "    </tr>\n",
       "    <tr>\n",
       "      <th>18</th>\n",
       "      <td>Abdel_Nasser_Assidi_0002.jpg</td>\n",
       "      <td>neutral</td>\n",
       "    </tr>\n",
       "    <tr>\n",
       "      <th>19</th>\n",
       "      <td>Abdoulaye_Wade_0001.jpg</td>\n",
       "      <td>neutral</td>\n",
       "    </tr>\n",
       "    <tr>\n",
       "      <th>20</th>\n",
       "      <td>Abdoulaye_Wade_0002.jpg</td>\n",
       "      <td>happiness</td>\n",
       "    </tr>\n",
       "    <tr>\n",
       "      <th>21</th>\n",
       "      <td>Abdoulaye_Wade_0003.jpg</td>\n",
       "      <td>neutral</td>\n",
       "    </tr>\n",
       "    <tr>\n",
       "      <th>22</th>\n",
       "      <td>Abdoulaye_Wade_0004.jpg</td>\n",
       "      <td>happiness</td>\n",
       "    </tr>\n",
       "    <tr>\n",
       "      <th>23</th>\n",
       "      <td>Abdul_Rahman_0001.jpg</td>\n",
       "      <td>neutral</td>\n",
       "    </tr>\n",
       "    <tr>\n",
       "      <th>24</th>\n",
       "      <td>Abdulaziz_Kamilov_0001.jpg</td>\n",
       "      <td>neutral</td>\n",
       "    </tr>\n",
       "    <tr>\n",
       "      <th>25</th>\n",
       "      <td>Abdullah_0001.jpg</td>\n",
       "      <td>neutral</td>\n",
       "    </tr>\n",
       "    <tr>\n",
       "      <th>26</th>\n",
       "      <td>Abdullah_0002.jpg</td>\n",
       "      <td>neutral</td>\n",
       "    </tr>\n",
       "    <tr>\n",
       "      <th>27</th>\n",
       "      <td>Abdullah_0003.jpg</td>\n",
       "      <td>neutral</td>\n",
       "    </tr>\n",
       "    <tr>\n",
       "      <th>28</th>\n",
       "      <td>Abdullah_0004.jpg</td>\n",
       "      <td>neutral</td>\n",
       "    </tr>\n",
       "    <tr>\n",
       "      <th>29</th>\n",
       "      <td>Abdullah_Ahmad_Badawi_0001.jpg</td>\n",
       "      <td>happiness</td>\n",
       "    </tr>\n",
       "    <tr>\n",
       "      <th>...</th>\n",
       "      <td>...</td>\n",
       "      <td>...</td>\n",
       "    </tr>\n",
       "    <tr>\n",
       "      <th>13648</th>\n",
       "      <td>Zhong_Nanshan_0001.jpg</td>\n",
       "      <td>neutral</td>\n",
       "    </tr>\n",
       "    <tr>\n",
       "      <th>13649</th>\n",
       "      <td>Zhu_Rongji_0001.jpg</td>\n",
       "      <td>happiness</td>\n",
       "    </tr>\n",
       "    <tr>\n",
       "      <th>13650</th>\n",
       "      <td>Zhu_Rongji_0002.jpg</td>\n",
       "      <td>neutral</td>\n",
       "    </tr>\n",
       "    <tr>\n",
       "      <th>13651</th>\n",
       "      <td>Zhu_Rongji_0003.jpg</td>\n",
       "      <td>happiness</td>\n",
       "    </tr>\n",
       "    <tr>\n",
       "      <th>13652</th>\n",
       "      <td>Zhu_Rongji_0004.jpg</td>\n",
       "      <td>neutral</td>\n",
       "    </tr>\n",
       "    <tr>\n",
       "      <th>13653</th>\n",
       "      <td>Zhu_Rongji_0005.jpg</td>\n",
       "      <td>surprise</td>\n",
       "    </tr>\n",
       "    <tr>\n",
       "      <th>13654</th>\n",
       "      <td>Zhu_Rongji_0006.jpg</td>\n",
       "      <td>neutral</td>\n",
       "    </tr>\n",
       "    <tr>\n",
       "      <th>13655</th>\n",
       "      <td>Zhu_Rongji_0007.jpg</td>\n",
       "      <td>neutral</td>\n",
       "    </tr>\n",
       "    <tr>\n",
       "      <th>13656</th>\n",
       "      <td>Zhu_Rongji_0008.jpg</td>\n",
       "      <td>happiness</td>\n",
       "    </tr>\n",
       "    <tr>\n",
       "      <th>13657</th>\n",
       "      <td>Zhu_Rongji_0009.jpg</td>\n",
       "      <td>happiness</td>\n",
       "    </tr>\n",
       "    <tr>\n",
       "      <th>13658</th>\n",
       "      <td>Zico_0001.jpg</td>\n",
       "      <td>happiness</td>\n",
       "    </tr>\n",
       "    <tr>\n",
       "      <th>13659</th>\n",
       "      <td>Zico_0002.jpg</td>\n",
       "      <td>happiness</td>\n",
       "    </tr>\n",
       "    <tr>\n",
       "      <th>13660</th>\n",
       "      <td>Zico_0003.jpg</td>\n",
       "      <td>happiness</td>\n",
       "    </tr>\n",
       "    <tr>\n",
       "      <th>13661</th>\n",
       "      <td>Zinedine_Zidane_0001.jpg</td>\n",
       "      <td>happiness</td>\n",
       "    </tr>\n",
       "    <tr>\n",
       "      <th>13662</th>\n",
       "      <td>Zinedine_Zidane_0002.jpg</td>\n",
       "      <td>neutral</td>\n",
       "    </tr>\n",
       "    <tr>\n",
       "      <th>13663</th>\n",
       "      <td>Zinedine_Zidane_0003.jpg</td>\n",
       "      <td>neutral</td>\n",
       "    </tr>\n",
       "    <tr>\n",
       "      <th>13664</th>\n",
       "      <td>Zinedine_Zidane_0004.jpg</td>\n",
       "      <td>happiness</td>\n",
       "    </tr>\n",
       "    <tr>\n",
       "      <th>13665</th>\n",
       "      <td>Zinedine_Zidane_0005.jpg</td>\n",
       "      <td>neutral</td>\n",
       "    </tr>\n",
       "    <tr>\n",
       "      <th>13666</th>\n",
       "      <td>Zinedine_Zidane_0006.jpg</td>\n",
       "      <td>neutral</td>\n",
       "    </tr>\n",
       "    <tr>\n",
       "      <th>13667</th>\n",
       "      <td>Ziwang_Xu_0001.jpg</td>\n",
       "      <td>happiness</td>\n",
       "    </tr>\n",
       "    <tr>\n",
       "      <th>13668</th>\n",
       "      <td>Zoe_Ball_0001.jpg</td>\n",
       "      <td>happiness</td>\n",
       "    </tr>\n",
       "    <tr>\n",
       "      <th>13669</th>\n",
       "      <td>Zoran_Djindjic_0001.jpg</td>\n",
       "      <td>neutral</td>\n",
       "    </tr>\n",
       "    <tr>\n",
       "      <th>13670</th>\n",
       "      <td>Zoran_Djindjic_0002.jpg</td>\n",
       "      <td>neutral</td>\n",
       "    </tr>\n",
       "    <tr>\n",
       "      <th>13671</th>\n",
       "      <td>Zoran_Djindjic_0003.jpg</td>\n",
       "      <td>neutral</td>\n",
       "    </tr>\n",
       "    <tr>\n",
       "      <th>13672</th>\n",
       "      <td>Zoran_Djindjic_0004.jpg</td>\n",
       "      <td>happiness</td>\n",
       "    </tr>\n",
       "    <tr>\n",
       "      <th>13673</th>\n",
       "      <td>Zorica_Radovic_0001.jpg</td>\n",
       "      <td>neutral</td>\n",
       "    </tr>\n",
       "    <tr>\n",
       "      <th>13674</th>\n",
       "      <td>Zulfiqar_Ahmed_0001.jpg</td>\n",
       "      <td>neutral</td>\n",
       "    </tr>\n",
       "    <tr>\n",
       "      <th>13675</th>\n",
       "      <td>Zumrati_Juma_0001.jpg</td>\n",
       "      <td>neutral</td>\n",
       "    </tr>\n",
       "    <tr>\n",
       "      <th>13676</th>\n",
       "      <td>Zurab_Tsereteli_0001.jpg</td>\n",
       "      <td>happiness</td>\n",
       "    </tr>\n",
       "    <tr>\n",
       "      <th>13677</th>\n",
       "      <td>Zydrunas_Ilgauskas_0001.jpg</td>\n",
       "      <td>neutral</td>\n",
       "    </tr>\n",
       "  </tbody>\n",
       "</table>\n",
       "<p>13678 rows × 2 columns</p>\n",
       "</div>"
      ],
      "text/plain": [
       "                                image    emotion\n",
       "0                    AJ_Cook_0001.jpg  happiness\n",
       "1                   AJ_Lamas_0001.jpg  happiness\n",
       "2              Aaron_Eckhart_0001.jpg    neutral\n",
       "3                Aaron_Guiel_0001.jpg  happiness\n",
       "4            Aaron_Patterson_0001.jpg    neutral\n",
       "5              Aaron_Peirsol_0001.jpg  happiness\n",
       "6              Aaron_Peirsol_0002.jpg  happiness\n",
       "7              Aaron_Peirsol_0003.jpg  happiness\n",
       "8              Aaron_Peirsol_0004.jpg    neutral\n",
       "9                 Aaron_Pena_0001.jpg    neutral\n",
       "10              Aaron_Sorkin_0001.jpg  happiness\n",
       "11              Aaron_Sorkin_0002.jpg  happiness\n",
       "12              Aaron_Tippin_0001.jpg    neutral\n",
       "13                 Abba_Eban_0001.jpg  happiness\n",
       "14          Abbas_Kiarostami_0001.jpg    neutral\n",
       "15       Abdel_Aziz_Al-Hakim_0001.jpg    neutral\n",
       "16        Abdel_Madi_Shabneh_0001.jpg    neutral\n",
       "17       Abdel_Nasser_Assidi_0001.jpg    neutral\n",
       "18       Abdel_Nasser_Assidi_0002.jpg    neutral\n",
       "19            Abdoulaye_Wade_0001.jpg    neutral\n",
       "20            Abdoulaye_Wade_0002.jpg  happiness\n",
       "21            Abdoulaye_Wade_0003.jpg    neutral\n",
       "22            Abdoulaye_Wade_0004.jpg  happiness\n",
       "23              Abdul_Rahman_0001.jpg    neutral\n",
       "24         Abdulaziz_Kamilov_0001.jpg    neutral\n",
       "25                  Abdullah_0001.jpg    neutral\n",
       "26                  Abdullah_0002.jpg    neutral\n",
       "27                  Abdullah_0003.jpg    neutral\n",
       "28                  Abdullah_0004.jpg    neutral\n",
       "29     Abdullah_Ahmad_Badawi_0001.jpg  happiness\n",
       "...                               ...        ...\n",
       "13648          Zhong_Nanshan_0001.jpg    neutral\n",
       "13649             Zhu_Rongji_0001.jpg  happiness\n",
       "13650             Zhu_Rongji_0002.jpg    neutral\n",
       "13651             Zhu_Rongji_0003.jpg  happiness\n",
       "13652             Zhu_Rongji_0004.jpg    neutral\n",
       "13653             Zhu_Rongji_0005.jpg   surprise\n",
       "13654             Zhu_Rongji_0006.jpg    neutral\n",
       "13655             Zhu_Rongji_0007.jpg    neutral\n",
       "13656             Zhu_Rongji_0008.jpg  happiness\n",
       "13657             Zhu_Rongji_0009.jpg  happiness\n",
       "13658                   Zico_0001.jpg  happiness\n",
       "13659                   Zico_0002.jpg  happiness\n",
       "13660                   Zico_0003.jpg  happiness\n",
       "13661        Zinedine_Zidane_0001.jpg  happiness\n",
       "13662        Zinedine_Zidane_0002.jpg    neutral\n",
       "13663        Zinedine_Zidane_0003.jpg    neutral\n",
       "13664        Zinedine_Zidane_0004.jpg  happiness\n",
       "13665        Zinedine_Zidane_0005.jpg    neutral\n",
       "13666        Zinedine_Zidane_0006.jpg    neutral\n",
       "13667              Ziwang_Xu_0001.jpg  happiness\n",
       "13668               Zoe_Ball_0001.jpg  happiness\n",
       "13669         Zoran_Djindjic_0001.jpg    neutral\n",
       "13670         Zoran_Djindjic_0002.jpg    neutral\n",
       "13671         Zoran_Djindjic_0003.jpg    neutral\n",
       "13672         Zoran_Djindjic_0004.jpg  happiness\n",
       "13673         Zorica_Radovic_0001.jpg    neutral\n",
       "13674         Zulfiqar_Ahmed_0001.jpg    neutral\n",
       "13675           Zumrati_Juma_0001.jpg    neutral\n",
       "13676        Zurab_Tsereteli_0001.jpg  happiness\n",
       "13677     Zydrunas_Ilgauskas_0001.jpg    neutral\n",
       "\n",
       "[13678 rows x 2 columns]"
      ]
     },
     "execution_count": 295,
     "metadata": {},
     "output_type": "execute_result"
    }
   ],
   "source": [
    "new_df"
   ]
  },
  {
   "cell_type": "code",
   "execution_count": 235,
   "metadata": {},
   "outputs": [
    {
     "name": "stdout",
     "output_type": "stream",
     "text": [
      "AJ_Cook_0001.jpg\n",
      "True\n"
     ]
    },
    {
     "data": {
      "text/plain": [
       "'AJ_Cook_0001.jpg'"
      ]
     },
     "execution_count": 235,
     "metadata": {},
     "output_type": "execute_result"
    }
   ],
   "source": [
    "print(images_dir[0])\n",
    "print(df['image'].str.contains(images_dir[0]).any())\n",
    "target = df[df['image'].str.contains(images_dir[0])]\n",
    "target = target.reset_index(drop=True)\n",
    "target.loc[[0], 'image'].to_string().split()[1]"
   ]
  },
  {
   "cell_type": "code",
   "execution_count": 296,
   "metadata": {},
   "outputs": [],
   "source": [
    "new_df.to_csv('ordered_labels.csv')"
   ]
  },
  {
   "cell_type": "code",
   "execution_count": 297,
   "metadata": {},
   "outputs": [],
   "source": [
    "exclude_image_list = []\n",
    "\n",
    "for name in images_dir:\n",
    "    if not new_df['image'].str.contains(name).any():\n",
    "        exclude_image_list.append(name)"
   ]
  },
  {
   "cell_type": "code",
   "execution_count": 298,
   "metadata": {},
   "outputs": [
    {
     "data": {
      "text/plain": [
       "['Abdul_Majeed_Shobokshi_0001.jpg',\n",
       " 'Arsinee_Khanjian_0001.jpg',\n",
       " 'Colin_Montgomerie_0004.jpg',\n",
       " 'Colin_Powell_0048.jpg',\n",
       " 'David_McCullough_0001.jpg',\n",
       " 'Donald_Rumsfeld_0117.jpg',\n",
       " 'Fernando_Vargas_0004.jpg',\n",
       " 'Franz_Muentefering_0003.jpg',\n",
       " 'George_HW_Bush_0003.jpg',\n",
       " 'George_Pataki_0002.jpg',\n",
       " 'Hans_Blix_0016.jpg',\n",
       " 'Isaiah_Washington_0002.jpg',\n",
       " 'Jeff_Feldman_0001.jpg',\n",
       " 'Jiang_Zemin_0002.jpg',\n",
       " 'Jiang_Zemin_0007.jpg',\n",
       " 'Joe_Vandever_0001.jpg',\n",
       " 'John_Wright_0001.jpg',\n",
       " 'Luciano_Pavarotti_0002.jpg',\n",
       " 'Lynne_Thigpen_0001.jpg',\n",
       " 'Michael_Powell_0003.jpg',\n",
       " 'Miguel_Contreras_0001.jpg',\n",
       " 'Morgan_Freeman_0002.jpg',\n",
       " 'Padraig_Harrington_0004.jpg',\n",
       " 'Paul_Bremer_0014.jpg',\n",
       " 'Pedro_Malan_0003.jpg',\n",
       " 'Pierce_Brosnan_0007.jpg',\n",
       " 'Pyar_Jung_Thapa_0001.jpg',\n",
       " 'Richard_Gephardt_0007.jpg',\n",
       " 'Rob_Moore_0001.jpg',\n",
       " 'Robert_Horan_0002.jpg',\n",
       " 'Robert_Zoellick_0005.jpg',\n",
       " 'Scott_McNealy_0001.jpg',\n",
       " 'Thomas_Daily_0001.jpg',\n",
       " 'Tony_Blair_0090.jpg',\n",
       " 'Will_Ferrell_0001.jpg',\n",
       " 'William_Bulger_0002.jpg',\n",
       " 'facial-expressions_2868582k.jpg',\n",
       " 'facial-expressions_2868584k.jpg',\n",
       " 'facial-expressions_2868585k.jpg',\n",
       " 'facial-expressions_2868588k.jpg']"
      ]
     },
     "execution_count": 298,
     "metadata": {},
     "output_type": "execute_result"
    }
   ],
   "source": [
    "exclude_image_list"
   ]
  },
  {
   "cell_type": "code",
   "execution_count": 299,
   "metadata": {},
   "outputs": [
    {
     "data": {
      "text/plain": [
       "40"
      ]
     },
     "execution_count": 299,
     "metadata": {},
     "output_type": "execute_result"
    }
   ],
   "source": [
    "len(exclude_image_list)"
   ]
  },
  {
   "cell_type": "code",
   "execution_count": 300,
   "metadata": {},
   "outputs": [],
   "source": [
    "\n",
    "for name in exclude_image_list:\n",
    "    path = image_file + \"/\" + name\n",
    "    os.system('rm '+path)"
   ]
  },
  {
   "cell_type": "code",
   "execution_count": 304,
   "metadata": {},
   "outputs": [
    {
     "name": "stdout",
     "output_type": "stream",
     "text": [
      "13678\n"
     ]
    }
   ],
   "source": [
    "images_dir_update = os.listdir(image_file)  \n",
    "print(len(images_dir_update))"
   ]
  },
  {
   "cell_type": "code",
   "execution_count": 326,
   "metadata": {},
   "outputs": [
    {
     "name": "stdout",
     "output_type": "stream",
     "text": [
      "True\n",
      "11652\n",
      "Raghad_Saddam_Hussein_0001.jpg Saddam_Hussein_0001.jpg\n",
      "11653\n",
      "Raghad_Saddam_Hussein_0002.jpg Saddam_Hussein_0002.jpg\n",
      "False\n"
     ]
    }
   ],
   "source": [
    "# check whether is equally paired\n",
    "image_names = np.array(new_df['image'])\n",
    "print(len(image_names) == len(images_dir_update))\n",
    "images_dir_update.sort()\n",
    "\n",
    "# print(image_names[0], images_dir_update[0])\n",
    "isEqual = True\n",
    "for i in range(len(images_dir_update)):\n",
    "    if image_names[i] != images_dir_update[i]:\n",
    "        print(i)\n",
    "        print(image_names[i], images_dir_update[i])\n",
    "        img=Image.open(image_file + \"/\" + images_dir_update[i])\n",
    "        img.show()\n",
    "        isEqual = False\n",
    "print(isEqual)"
   ]
  },
  {
   "cell_type": "markdown",
   "metadata": {},
   "source": [
    "**Manually change Raghad_Saddam_Hussein_0001.jpg into Saddam_Hussein_0001.jpg, Raghad_Saddam_Hussein_0002.jpg Saddam_Hussein_0002.jpg, in the ordered_labels.csv **"
   ]
  },
  {
   "cell_type": "code",
   "execution_count": 327,
   "metadata": {},
   "outputs": [
    {
     "name": "stdout",
     "output_type": "stream",
     "text": [
      "True\n",
      "True\n"
     ]
    }
   ],
   "source": [
    "updated_df = pd.read_csv('ordered_labels.csv')\n",
    "image_names = np.array(updated_df['image'])\n",
    "print(len(image_names) == len(images_dir_update))\n",
    "\n",
    "# print(image_names[0], images_dir_update[0])\n",
    "isEqual = True\n",
    "for i in range(len(images_dir_update)):\n",
    "    if image_names[i] != images_dir_update[i]:\n",
    "        print(i)\n",
    "        print(image_names[i], images_dir_update[i])\n",
    "        img=Image.open(image_file + \"/\" + images_dir_update[i])\n",
    "        img.show()\n",
    "        isEqual = False\n",
    "print(isEqual)\n"
   ]
  },
  {
   "cell_type": "code",
   "execution_count": null,
   "metadata": {},
   "outputs": [],
   "source": []
  }
 ],
 "metadata": {
  "kernelspec": {
   "display_name": "Python 3",
   "language": "python",
   "name": "python3"
  },
  "language_info": {
   "codemirror_mode": {
    "name": "ipython",
    "version": 3
   },
   "file_extension": ".py",
   "mimetype": "text/x-python",
   "name": "python",
   "nbconvert_exporter": "python",
   "pygments_lexer": "ipython3",
   "version": "3.6.8"
  }
 },
 "nbformat": 4,
 "nbformat_minor": 2
}
